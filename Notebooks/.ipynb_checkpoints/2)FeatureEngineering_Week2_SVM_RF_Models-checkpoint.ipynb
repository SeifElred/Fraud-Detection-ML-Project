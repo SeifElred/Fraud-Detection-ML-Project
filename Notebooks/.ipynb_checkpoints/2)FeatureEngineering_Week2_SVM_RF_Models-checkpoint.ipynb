{
 "cells": [
  {
   "cell_type": "markdown",
   "id": "db241735",
   "metadata": {},
   "source": [
    "# FEATURE ENGINEERING"
   ]
  },
  {
   "cell_type": "code",
   "execution_count": 3,
   "id": "a952acf5",
   "metadata": {},
   "outputs": [
    {
     "data": {
      "text/plain": [
       "((199364, 30),\n",
       " (85443, 30),\n",
       " 0    199020\n",
       " 1       344\n",
       " Name: Class, dtype: int64,\n",
       " 0    85295\n",
       " 1      148\n",
       " Name: Class, dtype: int64)"
      ]
     },
     "execution_count": 3,
     "metadata": {},
     "output_type": "execute_result"
    }
   ],
   "source": [
    "# Reloading dataset in chunks to process large data\n",
    "CreditCardData = pd.read_csv('../data/creditcard.csv', chunksize=50000)\n",
    "\n",
    "X_chunks = []\n",
    "y_chunks = []\n",
    "\n",
    "scaler = StandardScaler()\n",
    "\n",
    "for chunk in CreditCardData:\n",
    "    chunk['Hour'] = (chunk['Time'] // 3600) % 24\n",
    "    chunk['Amount_Scaled'] = scaler.fit_transform(chunk[['Amount']])\n",
    "    chunk = chunk.drop(columns=['Time', 'Amount'])\n",
    "\n",
    "    X_chunks.append(chunk.drop(columns=['Class']))\n",
    "    y_chunks.append(chunk['Class'])\n",
    "\n",
    "X = pd.concat(X_chunks, ignore_index=True)\n",
    "y = pd.concat(y_chunks, ignore_index=True)\n",
    "\n",
    "X_train, X_test, y_train, y_test = train_test_split(X, y, test_size=0.3, random_state=42, stratify=y)\n",
    "\n",
    "X_train.shape, X_test.shape, y_train.value_counts(), y_test.value_counts()"
   ]
  },
  {
   "cell_type": "markdown",
   "id": "f5464936",
   "metadata": {},
   "source": [
    "# SVM and Random Forest Models"
   ]
  },
  {
   "cell_type": "markdown",
   "id": "d3e864a6",
   "metadata": {},
   "source": [
    "# Importing SMOTE for handling class imbalance"
   ]
  },
  {
   "cell_type": "code",
   "execution_count": null,
   "id": "4bad1f41",
   "metadata": {},
   "outputs": [],
   "source": [
    "from imblearn.over_sampling import SMOTE\n",
    "\n",
    "smote = SMOTE(random_state=42)\n",
    "X_train_smote, y_train_smote = smote.fit_resample(X_train, y_train)\n",
    "\n",
    "balanced_class_distribution = y_train_smote.value_counts()\n",
    "balanced_class_distribution"
   ]
  },
  {
   "cell_type": "code",
   "execution_count": null,
   "id": "18256449",
   "metadata": {},
   "outputs": [],
   "source": [
    "\n",
    "# Additional feature engineering examples\n",
    "CreditCardData['Hour'] = (CreditCardData['Time'] // 3600) % 24\n",
    "CreditCardData['Transaction_Frequency'] = CreditCardData.groupby('UserID')['Time'].transform('count')\n",
    "CreditCardData['Cumulative_Amount'] = CreditCardData.groupby('UserID')['Amount'].transform('cumsum')\n",
    "\n",
    "# Scaling the Amount feature\n",
    "from sklearn.preprocessing import StandardScaler\n",
    "scaler = StandardScaler()\n",
    "CreditCardData['Amount_Scaled'] = scaler.fit_transform(CreditCardData[['Amount']])\n"
   ]
  }
 ],
 "metadata": {
  "kernelspec": {
   "display_name": "Python 3 (ipykernel)",
   "language": "python",
   "name": "python3"
  },
  "language_info": {
   "codemirror_mode": {
    "name": "ipython",
    "version": 3
   },
   "file_extension": ".py",
   "mimetype": "text/x-python",
   "name": "python",
   "nbconvert_exporter": "python",
   "pygments_lexer": "ipython3",
   "version": "3.9.7"
  }
 },
 "nbformat": 4,
 "nbformat_minor": 5
}
