{
 "cells": [
  {
   "cell_type": "code",
   "execution_count": 1,
   "id": "2ec174a3",
   "metadata": {},
   "outputs": [],
   "source": [
    "import pandas as pd\n",
    "from sklearn.preprocessing import StandardScaler\n",
    "from sklearn.model_selection import train_test_split\n",
    "\n",
    "from sklearn.svm import SVC\n",
    "from sklearn.ensemble import RandomForestClassifier\n",
    "from sklearn.metrics import classification_report, confusion_matrix"
   ]
  },
  {
   "cell_type": "markdown",
   "id": "db241735",
   "metadata": {},
   "source": [
    "# FEATURE ENGINEERING"
   ]
  },
  {
   "cell_type": "code",
   "execution_count": 2,
   "id": "a952acf5",
   "metadata": {},
   "outputs": [
    {
     "data": {
      "text/plain": [
       "((199364, 30),\n",
       " (85443, 30),\n",
       " 0    199020\n",
       " 1       344\n",
       " Name: Class, dtype: int64,\n",
       " 0    85295\n",
       " 1      148\n",
       " Name: Class, dtype: int64)"
      ]
     },
     "execution_count": 2,
     "metadata": {},
     "output_type": "execute_result"
    }
   ],
   "source": [
    "# Reloading dataset in chunks to process large data\n",
    "CreditCardData = pd.read_csv('../data/creditcard.csv', chunksize=50000)\n",
    "\n",
    "X_chunks = []\n",
    "y_chunks = []\n",
    "\n",
    "scaler = StandardScaler()\n",
    "\n",
    "processed_chunks = []\n",
    "for chunk in CreditCardData:\n",
    "    chunk['Hour'] = (chunk['Time'] // 3600) % 24\n",
    "    chunk['Amount_Scaled'] = scaler.fit_transform(chunk[['Amount']])\n",
    "    chunk = chunk.drop(columns=['Time', 'Amount'])\n",
    "\n",
    "    X_chunks.append(chunk.drop(columns=['Class']))\n",
    "    y_chunks.append(chunk['Class'])\n",
    "    processed_chunks.append(chunk)\n",
    "\n",
    "X = pd.concat(X_chunks, ignore_index=True)\n",
    "y = pd.concat(y_chunks, ignore_index=True)\n",
    "\n",
    "X_train, X_test, y_train, y_test = train_test_split(X, y, test_size=0.3, random_state=42, stratify=y)\n",
    "\n",
    "X_train.shape, X_test.shape, y_train.value_counts(), y_test.value_counts()"
   ]
  },
  {
   "cell_type": "markdown",
   "id": "f5464936",
   "metadata": {},
   "source": [
    "# SVM and Random Forest Models"
   ]
  },
  {
   "cell_type": "code",
   "execution_count": 3,
   "id": "962d872a",
   "metadata": {},
   "outputs": [],
   "source": [
    "# Initialize models\n",
    "svm_model = SVC(kernel='rbf', random_state=42, class_weight='balanced')\n",
    "rf_model = RandomForestClassifier(n_estimators=100, random_state=42, class_weight='balanced')"
   ]
  },
  {
   "cell_type": "markdown",
   "id": "d3e864a6",
   "metadata": {},
   "source": [
    "# Importing SMOTE for handling class imbalance"
   ]
  },
  {
   "cell_type": "code",
   "execution_count": 4,
   "id": "4bad1f41",
   "metadata": {},
   "outputs": [
    {
     "ename": "ModuleNotFoundError",
     "evalue": "No module named 'imblearn'",
     "output_type": "error",
     "traceback": [
      "\u001b[1;31m---------------------------------------------------------------------------\u001b[0m",
      "\u001b[1;31mModuleNotFoundError\u001b[0m                       Traceback (most recent call last)",
      "\u001b[1;32m~\\AppData\\Local\\Temp/ipykernel_5532/2597458786.py\u001b[0m in \u001b[0;36m<module>\u001b[1;34m\u001b[0m\n\u001b[1;32m----> 1\u001b[1;33m \u001b[1;32mfrom\u001b[0m \u001b[0mimblearn\u001b[0m\u001b[1;33m.\u001b[0m\u001b[0mover_sampling\u001b[0m \u001b[1;32mimport\u001b[0m \u001b[0mSMOTE\u001b[0m\u001b[1;33m\u001b[0m\u001b[1;33m\u001b[0m\u001b[0m\n\u001b[0m\u001b[0;32m      2\u001b[0m \u001b[1;33m\u001b[0m\u001b[0m\n\u001b[0;32m      3\u001b[0m \u001b[0msmote\u001b[0m \u001b[1;33m=\u001b[0m \u001b[0mSMOTE\u001b[0m\u001b[1;33m(\u001b[0m\u001b[0mrandom_state\u001b[0m\u001b[1;33m=\u001b[0m\u001b[1;36m42\u001b[0m\u001b[1;33m)\u001b[0m\u001b[1;33m\u001b[0m\u001b[1;33m\u001b[0m\u001b[0m\n\u001b[0;32m      4\u001b[0m \u001b[0mX_train_smote\u001b[0m\u001b[1;33m,\u001b[0m \u001b[0my_train_smote\u001b[0m \u001b[1;33m=\u001b[0m \u001b[0msmote\u001b[0m\u001b[1;33m.\u001b[0m\u001b[0mfit_resample\u001b[0m\u001b[1;33m(\u001b[0m\u001b[0mX_train\u001b[0m\u001b[1;33m,\u001b[0m \u001b[0my_train\u001b[0m\u001b[1;33m)\u001b[0m\u001b[1;33m\u001b[0m\u001b[1;33m\u001b[0m\u001b[0m\n\u001b[0;32m      5\u001b[0m \u001b[1;33m\u001b[0m\u001b[0m\n",
      "\u001b[1;31mModuleNotFoundError\u001b[0m: No module named 'imblearn'"
     ]
    }
   ],
   "source": [
    "from imblearn.over_sampling import SMOTE\n",
    "\n",
    "smote = SMOTE(random_state=42)\n",
    "X_train_smote, y_train_smote = smote.fit_resample(X_train, y_train)\n",
    "\n",
    "balanced_class_distribution = y_train_smote.value_counts()\n",
    "balanced_class_distribution"
   ]
  },
  {
   "cell_type": "code",
   "execution_count": 5,
   "id": "18256449",
   "metadata": {},
   "outputs": [
    {
     "ename": "TypeError",
     "evalue": "'TextFileReader' object is not subscriptable",
     "output_type": "error",
     "traceback": [
      "\u001b[1;31m---------------------------------------------------------------------------\u001b[0m",
      "\u001b[1;31mTypeError\u001b[0m                                 Traceback (most recent call last)",
      "\u001b[1;32m~\\AppData\\Local\\Temp/ipykernel_5532/153858512.py\u001b[0m in \u001b[0;36m<module>\u001b[1;34m\u001b[0m\n\u001b[0;32m      1\u001b[0m \u001b[1;31m# Additional feature engineering examples\u001b[0m\u001b[1;33m\u001b[0m\u001b[1;33m\u001b[0m\u001b[0m\n\u001b[1;32m----> 2\u001b[1;33m \u001b[0mCreditCardData\u001b[0m\u001b[1;33m[\u001b[0m\u001b[1;34m'Hour'\u001b[0m\u001b[1;33m]\u001b[0m \u001b[1;33m=\u001b[0m \u001b[1;33m(\u001b[0m\u001b[0mCreditCardData\u001b[0m\u001b[1;33m[\u001b[0m\u001b[1;34m'Time'\u001b[0m\u001b[1;33m]\u001b[0m \u001b[1;33m//\u001b[0m \u001b[1;36m3600\u001b[0m\u001b[1;33m)\u001b[0m \u001b[1;33m%\u001b[0m \u001b[1;36m24\u001b[0m\u001b[1;33m\u001b[0m\u001b[1;33m\u001b[0m\u001b[0m\n\u001b[0m\u001b[0;32m      3\u001b[0m \u001b[0mCreditCardData\u001b[0m\u001b[1;33m[\u001b[0m\u001b[1;34m'Transaction_Frequency'\u001b[0m\u001b[1;33m]\u001b[0m \u001b[1;33m=\u001b[0m \u001b[0mCreditCardData\u001b[0m\u001b[1;33m.\u001b[0m\u001b[0mgroupby\u001b[0m\u001b[1;33m(\u001b[0m\u001b[1;34m'UserID'\u001b[0m\u001b[1;33m)\u001b[0m\u001b[1;33m[\u001b[0m\u001b[1;34m'Time'\u001b[0m\u001b[1;33m]\u001b[0m\u001b[1;33m.\u001b[0m\u001b[0mtransform\u001b[0m\u001b[1;33m(\u001b[0m\u001b[1;34m'count'\u001b[0m\u001b[1;33m)\u001b[0m\u001b[1;33m\u001b[0m\u001b[1;33m\u001b[0m\u001b[0m\n\u001b[0;32m      4\u001b[0m \u001b[0mCreditCardData\u001b[0m\u001b[1;33m[\u001b[0m\u001b[1;34m'Cumulative_Amount'\u001b[0m\u001b[1;33m]\u001b[0m \u001b[1;33m=\u001b[0m \u001b[0mCreditCardData\u001b[0m\u001b[1;33m.\u001b[0m\u001b[0mgroupby\u001b[0m\u001b[1;33m(\u001b[0m\u001b[1;34m'UserID'\u001b[0m\u001b[1;33m)\u001b[0m\u001b[1;33m[\u001b[0m\u001b[1;34m'Amount'\u001b[0m\u001b[1;33m]\u001b[0m\u001b[1;33m.\u001b[0m\u001b[0mtransform\u001b[0m\u001b[1;33m(\u001b[0m\u001b[1;34m'cumsum'\u001b[0m\u001b[1;33m)\u001b[0m\u001b[1;33m\u001b[0m\u001b[1;33m\u001b[0m\u001b[0m\n\u001b[0;32m      5\u001b[0m \u001b[1;33m\u001b[0m\u001b[0m\n",
      "\u001b[1;31mTypeError\u001b[0m: 'TextFileReader' object is not subscriptable"
     ]
    }
   ],
   "source": [
    "\n",
    "# Additional feature engineering examples\n",
    "CreditCardData['Hour'] = (CreditCardData['Time'] // 3600) % 24\n",
    "CreditCardData['Transaction_Frequency'] = CreditCardData.groupby('UserID')['Time'].transform('count')\n",
    "CreditCardData['Cumulative_Amount'] = CreditCardData.groupby('UserID')['Amount'].transform('cumsum')\n",
    "\n",
    "# Scaling the Amount feature\n",
    "from sklearn.preprocessing import StandardScaler\n",
    "scaler = StandardScaler()\n",
    "CreditCardData['Amount_Scaled'] = scaler.fit_transform(CreditCardData[['Amount']])\n"
   ]
  },
  {
   "cell_type": "code",
   "execution_count": null,
   "id": "fe86f78b",
   "metadata": {},
   "outputs": [],
   "source": []
  }
 ],
 "metadata": {
  "kernelspec": {
   "display_name": "Python 3 (ipykernel)",
   "language": "python",
   "name": "python3"
  },
  "language_info": {
   "codemirror_mode": {
    "name": "ipython",
    "version": 3
   },
   "file_extension": ".py",
   "mimetype": "text/x-python",
   "name": "python",
   "nbconvert_exporter": "python",
   "pygments_lexer": "ipython3",
   "version": "3.9.7"
  }
 },
 "nbformat": 4,
 "nbformat_minor": 5
}
