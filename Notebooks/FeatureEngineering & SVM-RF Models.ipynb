{
 "cells": [
  {
   "cell_type": "code",
   "execution_count": 1,
   "id": "2ec174a3",
   "metadata": {},
   "outputs": [],
   "source": [
    "import pandas as pd\n",
    "from sklearn.preprocessing import StandardScaler\n",
    "from sklearn.model_selection import train_test_split\n",
    "\n",
    "from sklearn.svm import SVC\n",
    "from sklearn.ensemble import RandomForestClassifier\n",
    "from sklearn.metrics import classification_report, confusion_matrix\n",
    "from sklearn.preprocessing import StandardScaler"
   ]
  },
  {
   "cell_type": "markdown",
   "id": "db241735",
   "metadata": {},
   "source": [
    "# FEATURE ENGINEERING"
   ]
  },
  {
   "cell_type": "code",
   "execution_count": 2,
   "id": "a952acf5",
   "metadata": {},
   "outputs": [
    {
     "data": {
      "text/plain": [
       "((199364, 30),\n",
       " (85443, 30),\n",
       " 0    199020\n",
       " 1       344\n",
       " Name: Class, dtype: int64,\n",
       " 0    85295\n",
       " 1      148\n",
       " Name: Class, dtype: int64)"
      ]
     },
     "execution_count": 2,
     "metadata": {},
     "output_type": "execute_result"
    }
   ],
   "source": [
    "# Reloading dataset in chunks to process large data\n",
    "CreditCardData = pd.read_csv('../data/creditcard.csv', chunksize=50000)\n",
    "\n",
    "X_chunks = []\n",
    "y_chunks = []\n",
    "\n",
    "scaler = StandardScaler()\n",
    "\n",
    "for chunk in CreditCardData:\n",
    "    chunk['Hour'] = (chunk['Time'] // 3600) % 24\n",
    "    chunk['Amount_Scaled'] = scaler.fit_transform(chunk[['Amount']])\n",
    "    chunk = chunk.drop(columns=['Time', 'Amount'])\n",
    "\n",
    "    X_chunks.append(chunk.drop(columns=['Class']))\n",
    "    y_chunks.append(chunk['Class'])\n",
    "\n",
    "X = pd.concat(X_chunks, ignore_index=True)\n",
    "y = pd.concat(y_chunks, ignore_index=True)\n",
    "\n",
    "X_train, X_test, y_train, y_test = train_test_split(X, y, test_size=0.3, random_state=42, stratify=y)\n",
    "\n",
    "X_train.shape, X_test.shape, y_train.value_counts(), y_test.value_counts()"
   ]
  },
  {
   "cell_type": "markdown",
   "id": "f5464936",
   "metadata": {},
   "source": [
    "# SVM and Random Forest Models"
   ]
  },
  {
   "cell_type": "code",
   "execution_count": 3,
   "id": "267b80e4",
   "metadata": {},
   "outputs": [],
   "source": [
    "# Initialize models\n",
    "svm_model = SVC(kernel='rbf', random_state=42, class_weight='balanced')\n",
    "rf_model = RandomForestClassifier(n_estimators=100, random_state=42, class_weight='balanced')"
   ]
  },
  {
   "cell_type": "markdown",
   "id": "d3e864a6",
   "metadata": {},
   "source": [
    "# Importing SMOTE for handling class imbalance"
   ]
  },
  {
   "cell_type": "code",
   "execution_count": 4,
   "id": "4bad1f41",
   "metadata": {},
   "outputs": [
    {
     "data": {
      "text/plain": [
       "0    199020\n",
       "1    199020\n",
       "Name: Class, dtype: int64"
      ]
     },
     "execution_count": 4,
     "metadata": {},
     "output_type": "execute_result"
    }
   ],
   "source": [
    "from imblearn.over_sampling import SMOTE\n",
    "\n",
    "smote = SMOTE(random_state=42)\n",
    "X_train_smote, y_train_smote = smote.fit_resample(X_train, y_train)\n",
    "\n",
    "balanced_class_distribution = y_train_smote.value_counts()\n",
    "balanced_class_distribution"
   ]
  },
  {
   "cell_type": "code",
   "execution_count": 5,
   "id": "18256449",
   "metadata": {},
   "outputs": [],
   "source": [
    "# Scaling the Amount feature\n",
    "scaler = StandardScaler()\n",
    "#CreditCardData['Amount_Scaled'] = scaler.fit_transform(CreditCardData[['Amount']])\n",
    "# Reloading dataset in chunks to process large data\n",
    "CreditCardData = pd.read_csv('../data/creditcard.csv', chunksize=50000)\n",
    "\n",
    "X_chunks = []\n",
    "y_chunks = []\n",
    "\n",
    "scaler = StandardScaler()\n",
    "\n",
    "for chunk in CreditCardData:\n",
    "    chunk['Hour'] = (chunk['Time'] // 3600) % 24\n",
    "    chunk['Amount_Scaled'] = scaler.fit_transform(chunk[['Amount']])  # Düzeltme burada zaten var\n",
    "    chunk = chunk.drop(columns=['Time', 'Amount'])\n",
    "\n",
    "    X_chunks.append(chunk.drop(columns=['Class']))\n",
    "    y_chunks.append(chunk['Class'])\n",
    "\n",
    "# Tüm dilimleri birleştir\n",
    "X = pd.concat(X_chunks, ignore_index=True)\n",
    "y = pd.concat(y_chunks, ignore_index=True)\n",
    "\n",
    "\n",
    "X_train, X_test, y_train, y_test = train_test_split(X, y, test_size=0.3, random_state=42, stratify=y)\n"
   ]
  },
  {
   "cell_type": "code",
   "execution_count": 6,
   "id": "fc50b2f0",
   "metadata": {},
   "outputs": [
    {
     "name": "stdout",
     "output_type": "stream",
     "text": [
      "Training SVM model...\n",
      "Training Random Forest model...\n",
      "\n",
      "Evaluating SVM model on training data...\n",
      "Confusion Matrix (Training SVM):\n",
      "[[196150   2870]\n",
      " [  5550 193470]]\n",
      "Classification Report (Training SVM):\n",
      "              precision    recall  f1-score   support\n",
      "\n",
      "           0       0.97      0.99      0.98    199020\n",
      "           1       0.99      0.97      0.98    199020\n",
      "\n",
      "    accuracy                           0.98    398040\n",
      "   macro avg       0.98      0.98      0.98    398040\n",
      "weighted avg       0.98      0.98      0.98    398040\n",
      "\n",
      "\n",
      "Evaluating Random Forest model on training data...\n",
      "Confusion Matrix (Training RF):\n",
      "[[199020      0]\n",
      " [     0 199020]]\n",
      "Classification Report (Training RF):\n",
      "              precision    recall  f1-score   support\n",
      "\n",
      "           0       1.00      1.00      1.00    199020\n",
      "           1       1.00      1.00      1.00    199020\n",
      "\n",
      "    accuracy                           1.00    398040\n",
      "   macro avg       1.00      1.00      1.00    398040\n",
      "weighted avg       1.00      1.00      1.00    398040\n",
      "\n",
      "\n",
      "Evaluating SVM model on test data...\n",
      "Confusion Matrix (Test SVM):\n",
      "[[84088  1207]\n",
      " [   27   121]]\n",
      "Classification Report (Test SVM):\n",
      "              precision    recall  f1-score   support\n",
      "\n",
      "           0       1.00      0.99      0.99     85295\n",
      "           1       0.09      0.82      0.16       148\n",
      "\n",
      "    accuracy                           0.99     85443\n",
      "   macro avg       0.55      0.90      0.58     85443\n",
      "weighted avg       1.00      0.99      0.99     85443\n",
      "\n",
      "\n",
      "Evaluating Random Forest model on test data...\n",
      "Confusion Matrix (Test RF):\n",
      "[[85278    17]\n",
      " [   34   114]]\n",
      "Classification Report (Test RF):\n",
      "              precision    recall  f1-score   support\n",
      "\n",
      "           0       1.00      1.00      1.00     85295\n",
      "           1       0.87      0.77      0.82       148\n",
      "\n",
      "    accuracy                           1.00     85443\n",
      "   macro avg       0.93      0.89      0.91     85443\n",
      "weighted avg       1.00      1.00      1.00     85443\n",
      "\n"
     ]
    }
   ],
   "source": [
    "# Train SVM model\n",
    "print(\"Training SVM model...\")\n",
    "svm_model.fit(X_train_smote, y_train_smote)\n",
    "\n",
    "# Train Random Forest model\n",
    "print(\"Training Random Forest model...\")\n",
    "rf_model.fit(X_train_smote, y_train_smote)\n",
    "\n",
    "# --- Değerlendirme --- #\n",
    "# Değerlendirme: Eğitim seti üzerindeki performans\n",
    "print(\"\\nEvaluating SVM model on training data...\")\n",
    "y_train_pred_svm = svm_model.predict(X_train_smote)\n",
    "print(\"Confusion Matrix (Training SVM):\")\n",
    "print(confusion_matrix(y_train_smote, y_train_pred_svm))\n",
    "print(\"Classification Report (Training SVM):\")\n",
    "print(classification_report(y_train_smote, y_train_pred_svm))\n",
    "\n",
    "print(\"\\nEvaluating Random Forest model on training data...\")\n",
    "y_train_pred_rf = rf_model.predict(X_train_smote)\n",
    "print(\"Confusion Matrix (Training RF):\")\n",
    "print(confusion_matrix(y_train_smote, y_train_pred_rf))\n",
    "print(\"Classification Report (Training RF):\")\n",
    "print(classification_report(y_train_smote, y_train_pred_rf))\n",
    "\n",
    "# Değerlendirme: Test seti üzerindeki performans\n",
    "print(\"\\nEvaluating SVM model on test data...\")\n",
    "y_test_pred_svm = svm_model.predict(X_test)\n",
    "print(\"Confusion Matrix (Test SVM):\")\n",
    "print(confusion_matrix(y_test, y_test_pred_svm))\n",
    "print(\"Classification Report (Test SVM):\")\n",
    "print(classification_report(y_test, y_test_pred_svm))\n",
    "\n",
    "print(\"\\nEvaluating Random Forest model on test data...\")\n",
    "y_test_pred_rf = rf_model.predict(X_test)\n",
    "print(\"Confusion Matrix (Test RF):\")\n",
    "print(confusion_matrix(y_test, y_test_pred_rf))\n",
    "print(\"Classification Report (Test RF):\")\n",
    "print(classification_report(y_test, y_test_pred_rf))"
   ]
  },
  {
   "cell_type": "code",
   "execution_count": null,
   "id": "8718400c",
   "metadata": {},
   "outputs": [],
   "source": [
    "# Confusion Matrix Görselleştirme Fonksiyonu\n",
    "def plot_confusion_matrix(cm, title='Confusion Matrix', labels=['Normal', 'Fraud']):\n",
    "    plt.figure(figsize=(8, 6))\n",
    "    sns.heatmap(cm, annot=True, fmt='d', cmap='Blues', xticklabels=labels, yticklabels=labels)\n",
    "    plt.title(title)\n",
    "    plt.ylabel('True Label')\n",
    "    plt.xlabel('Predicted Label')\n",
    "    plt.show()\n",
    "\n",
    "# ROC Eğrisi Görselleştirme Fonksiyonu\n",
    "def plot_roc_curve(y_true, y_pred_proba, model_name='Model'):\n",
    "    fpr, tpr, _ = roc_curve(y_true, y_pred_proba)\n",
    "    roc_auc = auc(fpr, tpr)\n",
    "\n",
    "    plt.figure(figsize=(8, 6))\n",
    "    plt.plot(fpr, tpr, color='blue', label=f'ROC curve (area = {roc_auc:.2f})')\n",
    "    plt.plot([0, 1], [0, 1], color='grey', linestyle='--')\n",
    "    plt.xlabel('False Positive Rate')\n",
    "    plt.ylabel('True Positive Rate')\n",
    "    plt.title(f'ROC Curve for {model_name}')\n",
    "    plt.legend(loc=\"lower right\")\n",
    "    plt.show()\n",
    "\n",
    "# SVM Confusion Matrix\n",
    "cm_svm = confusion_matrix(y_test, svm_model.predict(X_test))\n",
    "plot_confusion_matrix(cm_svm, title='Confusion Matrix (Test SVM)')\n",
    "\n",
    "# Random Forest Confusion Matrix\n",
    "cm_rf = confusion_matrix(y_test, rf_model.predict(X_test))\n",
    "plot_confusion_matrix(cm_rf, title='Confusion Matrix (Test RF)')\n",
    "\n",
    "# SVM ROC Curve\n",
    "plot_roc_curve(y_test, svm_model.decision_function(X_test), model_name='SVM')\n",
    "\n",
    "# Random Forest ROC Curve\n",
    "rf_prob = rf_model.predict_proba(X_test)[:, 1]\n",
    "plot_roc_curve(y_test, rf_prob, model_name='Random Forest')"
   ]
  },
  {
   "cell_type": "code",
   "execution_count": null,
   "id": "d2f83700",
   "metadata": {},
   "outputs": [],
   "source": []
  }
 ],
 "metadata": {
  "kernelspec": {
   "display_name": "Python 3 (ipykernel)",
   "language": "python",
   "name": "python3"
  },
  "language_info": {
   "codemirror_mode": {
    "name": "ipython",
    "version": 3
   },
   "file_extension": ".py",
   "mimetype": "text/x-python",
   "name": "python",
   "nbconvert_exporter": "python",
   "pygments_lexer": "ipython3",
   "version": "3.10.9"
  }
 },
 "nbformat": 4,
 "nbformat_minor": 5
}
